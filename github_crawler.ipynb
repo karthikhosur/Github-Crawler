{
 "cells": [
  {
   "cell_type": "code",
   "execution_count": 3,
   "metadata": {},
   "outputs": [],
   "source": []
  },
  {
   "cell_type": "code",
   "execution_count": 9,
   "metadata": {},
   "outputs": [],
   "source": [
    "import requests\n",
    "from bs4 import BeautifulSoup\n",
    "\n",
    "URL = 'https://github.com/karthikhosur?tab=repositories'\n",
    "page = requests.get(URL)\n",
    "\n",
    "soup = BeautifulSoup(page.content, 'html.parser')\n"
   ]
  },
  {
   "cell_type": "code",
   "execution_count": 17,
   "metadata": {},
   "outputs": [],
   "source": [
    "#print(soup.prettify())\n",
    "user_followers = soup.find('a', href='/karthikhosur?tab=followers')\n",
    "user_followers = int(user_followers.find('span').text)\n",
    "\n",
    "user_following= soup.find('a', href='/karthikhosur?tab=following')\n",
    "user_following = int(user_following.find('span').text)\n",
    "\n",
    "user_stars = soup.find('a', href='/karthikhosur?tab=stars')\n",
    "user_stars = int(user_stars.find('span').text)\n",
    "\n",
    "\n"
   ]
  },
  {
   "cell_type": "code",
   "execution_count": 18,
   "metadata": {},
   "outputs": [
    {
     "data": {
      "text/plain": [
       "'5'"
      ]
     },
     "execution_count": 18,
     "metadata": {},
     "output_type": "execute_result"
    }
   ],
   "source": [
    "user_stars"
   ]
  },
  {
   "cell_type": "code",
   "execution_count": 37,
   "metadata": {},
   "outputs": [],
   "source": [
    "user_repositories_text = soup.find('div', id = 'user-repositories-list')"
   ]
  },
  {
   "cell_type": "code",
   "execution_count": 61,
   "metadata": {},
   "outputs": [
    {
     "name": "stdout",
     "output_type": "stream",
     "text": [
      "/karthikhosur/FairCV\n",
      "/karthikhosur/Stop-Words-Remover-API\n",
      "/karthikhosur/BlogsParser-API\n",
      "/karthikhosur/plagarism-ranker\n",
      "/karthikhosur/gooogle-news-api\n",
      "/karthikhosur/whois-data-api\n",
      "/karthikhosur/uni-apply-api\n",
      "/karthikhosur/fact-check-tool\n",
      "/karthikhosur/fake-real-job-classifier\n",
      "/karthikhosur/language-translator-all-api\n",
      "/karthikhosur/HSPA\n",
      "/karthikhosur/Indian-Number-Plate-Recognition\n",
      "/karthikhosur/Youtube-Comment-Analytics\n",
      "/karthikhosur/AuctionPortal-WebApp\n",
      "/karthikhosur/Indian-Number-Plate-Recognition-1\n",
      "/karthikhosur/TedxMarathalli-Website\n",
      "/karthikhosur/TEDxCMRIT-Home-page\n",
      "/karthikhosur/TEDxCMRIT\n"
     ]
    }
   ],
   "source": [
    "user_repositories_urls = user_repositories_text.find_all('a', itemprop = \"name codeRepository\")\n",
    "#print(user_repositories_urls)\n",
    "for i in range(len(user_repositories_urls)):\n",
    "    user_repositories_urls[i] = user_repositories_urls[i].get('href')\n",
    "    print(user_repositories_urls[i])"
   ]
  },
  {
   "cell_type": "code",
   "execution_count": 70,
   "metadata": {},
   "outputs": [
    {
     "name": "stdout",
     "output_type": "stream",
     "text": [
      "https://github.com/karthikhosur/FairCV\n",
      "1\n",
      "0\n",
      "0\n"
     ]
    }
   ],
   "source": [
    "#for i in range(len(user_repositories_urls)):\n",
    "URL = \"https://github.com\"+user_repositories_urls[0]\n",
    "print(URL)\n",
    "page = requests.get(URL)\n",
    "\n",
    "soup = BeautifulSoup(page.content, 'html.parser')\n",
    "watchers_text  = user_repositories_urls[0]+\"/watchers\"\n",
    "\n",
    "watchers = soup.find('a', href=watchers_text)\n",
    "watchers = int(watchers.text)\n",
    "print(watchers)\n",
    "\n",
    "stargazers_text = user_repositories_urls[0]+\"/stargazers\"\n",
    "\n",
    "stargazers = soup.find('a', href=stargazers_text)\n",
    "stargazers = int(stargazers.text)\n",
    "print(stargazers)\n",
    "\n",
    "forks_text = user_repositories_urls[0]+\"/network/members\"\n",
    "forks = watchers = soup.find('a', href=forks_text)\n",
    "forks = int(forks.text)\n",
    "print(forks)\n",
    "\n"
   ]
  },
  {
   "cell_type": "code",
   "execution_count": 71,
   "metadata": {},
   "outputs": [
    {
     "name": "stdout",
     "output_type": "stream",
     "text": [
      "Collecting Github-Crawler==0.0.1\n",
      "  Downloading Github_Crawler-0.0.1-py3-none-any.whl (4.2 kB)\n",
      "Requirement already satisfied: beautifulsoup4==4.9.3 in /Users/karthikhosur/.pyenv/versions/3.7.3/lib/python3.7/site-packages (from Github-Crawler==0.0.1) (4.9.3)\n",
      "Requirement already satisfied: requests==2.25.1 in /Users/karthikhosur/.pyenv/versions/3.7.3/lib/python3.7/site-packages (from Github-Crawler==0.0.1) (2.25.1)\n",
      "Requirement already satisfied: soupsieve>1.2 in /Users/karthikhosur/.pyenv/versions/3.7.3/lib/python3.7/site-packages (from beautifulsoup4==4.9.3->Github-Crawler==0.0.1) (2.1)\n",
      "Requirement already satisfied: idna<3,>=2.5 in /Users/karthikhosur/.pyenv/versions/3.7.3/lib/python3.7/site-packages (from requests==2.25.1->Github-Crawler==0.0.1) (2.10)\n",
      "Requirement already satisfied: certifi>=2017.4.17 in /Users/karthikhosur/.pyenv/versions/3.7.3/lib/python3.7/site-packages (from requests==2.25.1->Github-Crawler==0.0.1) (2020.12.5)\n",
      "Requirement already satisfied: chardet<5,>=3.0.2 in /Users/karthikhosur/.pyenv/versions/3.7.3/lib/python3.7/site-packages (from requests==2.25.1->Github-Crawler==0.0.1) (4.0.0)\n",
      "Requirement already satisfied: urllib3<1.27,>=1.21.1 in /Users/karthikhosur/.pyenv/versions/3.7.3/lib/python3.7/site-packages (from requests==2.25.1->Github-Crawler==0.0.1) (1.26.2)\n",
      "Installing collected packages: Github-Crawler\n",
      "Successfully installed Github-Crawler-0.0.1\n",
      "\u001b[33mWARNING: You are using pip version 20.3.3; however, version 21.0 is available.\n",
      "You should consider upgrading via the '/Users/karthikhosur/.pyenv/versions/3.7.3/bin/python3.7 -m pip install --upgrade pip' command.\u001b[0m\n"
     ]
    }
   ],
   "source": [
    "!pip install Github-Crawler==0.0.1\n"
   ]
  },
  {
   "cell_type": "code",
   "execution_count": 73,
   "metadata": {},
   "outputs": [
    {
     "ename": "NameError",
     "evalue": "name 'repo_info' is not defined",
     "output_type": "error",
     "traceback": [
      "\u001b[0;31m---------------------------------------------------------------------------\u001b[0m",
      "\u001b[0;31mNameError\u001b[0m                                 Traceback (most recent call last)",
      "\u001b[0;32m<ipython-input-73-81cab22b3ada>\u001b[0m in \u001b[0;36m<module>\u001b[0;34m\u001b[0m\n\u001b[0;32m----> 1\u001b[0;31m \u001b[0mrepo_info\u001b[0m\u001b[0;34m(\u001b[0m\u001b[0;34m\"karthikhosur\"\u001b[0m\u001b[0;34m)\u001b[0m\u001b[0;34m\u001b[0m\u001b[0;34m\u001b[0m\u001b[0m\n\u001b[0m",
      "\u001b[0;31mNameError\u001b[0m: name 'repo_info' is not defined"
     ]
    }
   ],
   "source": [
    "repo_info(\"karthikhosur\")"
   ]
  },
  {
   "cell_type": "code",
   "execution_count": 74,
   "metadata": {},
   "outputs": [
    {
     "name": "stdout",
     "output_type": "stream",
     "text": [
      "Collecting Github-Crawler==0.0.2\n",
      "  Downloading Github_Crawler-0.0.2-py3-none-any.whl (4.2 kB)\n",
      "Requirement already satisfied: beautifulsoup4==4.9.3 in /Users/karthikhosur/.pyenv/versions/3.7.3/lib/python3.7/site-packages (from Github-Crawler==0.0.2) (4.9.3)\n",
      "Requirement already satisfied: requests==2.25.1 in /Users/karthikhosur/.pyenv/versions/3.7.3/lib/python3.7/site-packages (from Github-Crawler==0.0.2) (2.25.1)\n",
      "Requirement already satisfied: soupsieve>1.2 in /Users/karthikhosur/.pyenv/versions/3.7.3/lib/python3.7/site-packages (from beautifulsoup4==4.9.3->Github-Crawler==0.0.2) (2.1)\n",
      "Requirement already satisfied: chardet<5,>=3.0.2 in /Users/karthikhosur/.pyenv/versions/3.7.3/lib/python3.7/site-packages (from requests==2.25.1->Github-Crawler==0.0.2) (4.0.0)\n",
      "Requirement already satisfied: idna<3,>=2.5 in /Users/karthikhosur/.pyenv/versions/3.7.3/lib/python3.7/site-packages (from requests==2.25.1->Github-Crawler==0.0.2) (2.10)\n",
      "Requirement already satisfied: urllib3<1.27,>=1.21.1 in /Users/karthikhosur/.pyenv/versions/3.7.3/lib/python3.7/site-packages (from requests==2.25.1->Github-Crawler==0.0.2) (1.26.2)\n",
      "Requirement already satisfied: certifi>=2017.4.17 in /Users/karthikhosur/.pyenv/versions/3.7.3/lib/python3.7/site-packages (from requests==2.25.1->Github-Crawler==0.0.2) (2020.12.5)\n",
      "Installing collected packages: Github-Crawler\n",
      "  Attempting uninstall: Github-Crawler\n",
      "    Found existing installation: Github-Crawler 0.0.1\n",
      "    Uninstalling Github-Crawler-0.0.1:\n",
      "      Successfully uninstalled Github-Crawler-0.0.1\n",
      "Successfully installed Github-Crawler-0.0.2\n",
      "\u001b[33mWARNING: You are using pip version 20.3.3; however, version 21.0 is available.\n",
      "You should consider upgrading via the '/Users/karthikhosur/.pyenv/versions/3.7.3/bin/python3.7 -m pip install --upgrade pip' command.\u001b[0m\n"
     ]
    }
   ],
   "source": [
    "!pip install Github-Crawler==0.0.2\n"
   ]
  },
  {
   "cell_type": "code",
   "execution_count": 87,
   "metadata": {},
   "outputs": [
    {
     "name": "stdout",
     "output_type": "stream",
     "text": [
      "Collecting github-crawler==0.0.4\n",
      "  Downloading github_crawler-0.0.4-py3-none-any.whl (5.9 kB)\n",
      "Requirement already satisfied: beautifulsoup4==4.9.3 in /Users/karthikhosur/.pyenv/versions/3.7.3/lib/python3.7/site-packages (from github-crawler==0.0.4) (4.9.3)\n",
      "Requirement already satisfied: requests==2.25.1 in /Users/karthikhosur/.pyenv/versions/3.7.3/lib/python3.7/site-packages (from github-crawler==0.0.4) (2.25.1)\n",
      "Requirement already satisfied: soupsieve>1.2 in /Users/karthikhosur/.pyenv/versions/3.7.3/lib/python3.7/site-packages (from beautifulsoup4==4.9.3->github-crawler==0.0.4) (2.1)\n",
      "Requirement already satisfied: chardet<5,>=3.0.2 in /Users/karthikhosur/.pyenv/versions/3.7.3/lib/python3.7/site-packages (from requests==2.25.1->github-crawler==0.0.4) (4.0.0)\n",
      "Requirement already satisfied: certifi>=2017.4.17 in /Users/karthikhosur/.pyenv/versions/3.7.3/lib/python3.7/site-packages (from requests==2.25.1->github-crawler==0.0.4) (2020.12.5)\n",
      "Requirement already satisfied: urllib3<1.27,>=1.21.1 in /Users/karthikhosur/.pyenv/versions/3.7.3/lib/python3.7/site-packages (from requests==2.25.1->github-crawler==0.0.4) (1.26.2)\n",
      "Requirement already satisfied: idna<3,>=2.5 in /Users/karthikhosur/.pyenv/versions/3.7.3/lib/python3.7/site-packages (from requests==2.25.1->github-crawler==0.0.4) (2.10)\n",
      "Installing collected packages: github-crawler\n",
      "  Attempting uninstall: github-crawler\n",
      "    Found existing installation: github-crawler 0.0.3\n",
      "    Uninstalling github-crawler-0.0.3:\n",
      "      Successfully uninstalled github-crawler-0.0.3\n",
      "Successfully installed github-crawler-0.0.4\n",
      "\u001b[33mWARNING: You are using pip version 20.3.3; however, version 21.0 is available.\n",
      "You should consider upgrading via the '/Users/karthikhosur/.pyenv/versions/3.7.3/bin/python3.7 -m pip install --upgrade pip' command.\u001b[0m\n"
     ]
    }
   ],
   "source": [
    "!pip install github-crawler==0.0.4\n"
   ]
  },
  {
   "cell_type": "code",
   "execution_count": 92,
   "metadata": {},
   "outputs": [],
   "source": [
    "from github_crawler import repo_info"
   ]
  },
  {
   "cell_type": "code",
   "execution_count": 94,
   "metadata": {},
   "outputs": [
    {
     "name": "stdout",
     "output_type": "stream",
     "text": [
      "https://github.com/karthikhosur/Github-Crawler\n"
     ]
    },
    {
     "data": {
      "text/plain": [
       "{'watchers': 1, 'stargazers': 1, 'forks': 1}"
      ]
     },
     "execution_count": 94,
     "metadata": {},
     "output_type": "execute_result"
    }
   ],
   "source": [
    "github_crawler.repo_info(\"/karthikhosur/Github-Crawler\")"
   ]
  },
  {
   "cell_type": "code",
   "execution_count": null,
   "metadata": {},
   "outputs": [],
   "source": []
  }
 ],
 "metadata": {
  "kernelspec": {
   "display_name": "Python 3",
   "language": "python",
   "name": "python3"
  },
  "language_info": {
   "codemirror_mode": {
    "name": "ipython",
    "version": 3
   },
   "file_extension": ".py",
   "mimetype": "text/x-python",
   "name": "python",
   "nbconvert_exporter": "python",
   "pygments_lexer": "ipython3",
   "version": "3.7.3"
  }
 },
 "nbformat": 4,
 "nbformat_minor": 4
}
